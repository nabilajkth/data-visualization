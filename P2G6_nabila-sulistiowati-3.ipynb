{
 "cells": [
  {
   "cell_type": "markdown",
   "id": "b0ad3f96-426b-4632-9022-6fe270b8dec6",
   "metadata": {},
   "source": [
    "'''\n",
    "Graded Challenge 6\n",
    "\n",
    "Nama  : Nabila Sulistiowati\n",
    "Batch : CODA-RMT-003\n",
    "\n",
    "Melakukan proses data cleaning dan transformasi data dengan PySpark\n",
    "\n",
    "'''"
   ]
  },
  {
   "cell_type": "code",
   "execution_count": 1,
   "id": "7ebc49e0-fe67-4741-b4bd-216946c645fa",
   "metadata": {},
   "outputs": [],
   "source": [
    "from pyspark.sql import SparkSession\n",
    "from pyspark.sql.functions import col, sum\n",
    "from pyspark.sql.functions import col\n",
    "import findspark\n",
    "findspark.init()\n",
    "\n",
    "from pyspark.sql.functions import col, lit, to_date\n",
    "from pyspark.sql.types import DateType\n",
    "\n",
    "# Initialize Spark Session\n",
    "spark = SparkSession.builder \\\n",
    "    .appName(\"WriteToPostgres\") \\\n",
    "    .config(\"spark.jars.packages\", \"org.postgresql:postgresql:42.6.0\") \\\n",
    "    .getOrCreate()"
   ]
  },
  {
   "cell_type": "code",
   "execution_count": 2,
   "id": "77264c6d-c330-4bac-bbca-aab1c6e327b7",
   "metadata": {},
   "outputs": [
    {
     "name": "stdout",
     "output_type": "stream",
     "text": [
      "Data fact_transaction loaded successfully!\n",
      "Data dim_users loaded successfully!\n",
      "Data dim_products loaded successfully!\n",
      "Data dim_date loaded successfully!\n",
      "+--------------+--------+-------+----------+----------+------------------+--------+------------------+\n",
      "|transaction_id|order_id|user_id|product_id|   date_id|      retail_price|quantity|      total_amount|\n",
      "+--------------+--------+-------+----------+----------+------------------+--------+------------------+\n",
      "|        109027|   75280|  59996|      9347|2025-02-06|               6.5|       2|              13.0|\n",
      "|          1332|     921|    744|      9028|2025-02-06| 9.989999771118164|       2|19.979999542236328|\n",
      "|        126309|   87159|  69618|      9209|2025-02-06|              10.0|       3|              30.0|\n",
      "|         78859|   54430|  43491|     10767|2025-02-06|              10.5|       4|              42.0|\n",
      "|        102830|   70958|  56592|      9420|2025-02-06|11.989999771118164|       3| 35.96999931335449|\n",
      "+--------------+--------+-------+----------+----------+------------------+--------+------------------+\n",
      "only showing top 5 rows\n",
      "\n",
      "+-------+----------+---------+--------------------+---+-------------+\n",
      "|user_id|first_name|last_name|               email|age|         city|\n",
      "+-------+----------+---------+--------------------+---+-------------+\n",
      "|      1|     Susan|    Hayes|susanhayes@exampl...| 38|     Oxenhope|\n",
      "|      2|   Barbara|     Wood|barbarawood@examp...| 58|Cícero Dantas|\n",
      "|      3|   Cynthia|  Perkins|cynthiaperkins@ex...| 25|    Porangatu|\n",
      "|      4|    Philip|Gallagher|philipgallagher@e...| 42|   Nottingham|\n",
      "|      5|  Michelle|    Smith|michellesmith@exa...| 29|   Uberlândia|\n",
      "+-------+----------+---------+--------------------+---+-------------+\n",
      "only showing top 5 rows\n",
      "\n",
      "+----------+--------------------+------------------+------------+------------------+\n",
      "|product_id|        product_name|     product_brand|retail_price|              cost|\n",
      "+----------+--------------------+------------------+------------+------------------+\n",
      "|         1|Seven7 Women's Lo...|            Seven7|        49.0| 27.04799991566688|\n",
      "|         2|Calvin Klein Wome...|      Calvin Klein|        69.5|36.626499919220805|\n",
      "|         3|Calvin Klein Jean...|Calvin Klein Jeans|        69.5|41.004999860189855|\n",
      "|         4|Bailey 44 Women's...|         Bailey 44|       108.0| 57.13199990987778|\n",
      "|         5|Anne Klein Women'...|        Anne Klein|        94.0|52.357999871484935|\n",
      "+----------+--------------------+------------------+------------+------------------+\n",
      "only showing top 5 rows\n",
      "\n",
      "+----------+----+-------+-----+---+------------+-----------+--------+----------+----------+\n",
      "|   date_id|year|quarter|month|day|week_of_year|day_of_week|day_name|month_name|is_weekend|\n",
      "+----------+----+-------+-----+---+------------+-----------+--------+----------+----------+\n",
      "|2019-01-08|2019|      1|    1|  8|           1|          3| Tuesday|   January|   Weekday|\n",
      "|2019-01-10|2019|      1|    1| 10|           1|          5|Thursday|   January|   Weekday|\n",
      "|2019-01-14|2019|      1|    1| 14|           2|          2|  Monday|   January|   Weekday|\n",
      "|2019-01-15|2019|      1|    1| 15|           2|          3| Tuesday|   January|   Weekday|\n",
      "|2019-01-17|2019|      1|    1| 17|           2|          5|Thursday|   January|   Weekday|\n",
      "+----------+----+-------+-----+---+------------+-----------+--------+----------+----------+\n",
      "only showing top 5 rows\n",
      "\n"
     ]
    }
   ],
   "source": [
    "# List nama file CSV yang akan dibaca\n",
    "csv_files = [\"fact_transaction.csv\",\"dim_users.csv\", \"dim_products.csv\", \"dim_date.csv\", ]\n",
    "\n",
    "# Dictionary untuk menyimpan DataFrame setiap file\n",
    "dfs = {}\n",
    "\n",
    "# Load setiap CSV ke dalam DataFrame PySpark\n",
    "for file in csv_files:\n",
    "    df_name = file.replace(\".csv\", \"\")  # Nama dataframe sesuai nama file\n",
    "    dfs[df_name] = spark.read.csv(file, header=True, inferSchema=True)\n",
    "    print(f\"Data {df_name} loaded successfully!\")\n",
    "\n",
    "# Contoh akses DataFrame (misalnya ingin melihat fact_transaction)\n",
    "dfs[\"fact_transaction\"].show(5)\n",
    "dfs[\"dim_users\"].show(5)\n",
    "dfs[\"dim_products\"].show(5)\n",
    "dfs[\"dim_date\"].show(5)"
   ]
  },
  {
   "cell_type": "code",
   "execution_count": 3,
   "id": "074380b2-6249-4734-8938-6573227f6588",
   "metadata": {},
   "outputs": [
    {
     "name": "stdout",
     "output_type": "stream",
     "text": [
      "root\n",
      " |-- transaction_id: integer (nullable = true)\n",
      " |-- order_id: integer (nullable = true)\n",
      " |-- user_id: integer (nullable = true)\n",
      " |-- product_id: integer (nullable = true)\n",
      " |-- date_id: date (nullable = true)\n",
      " |-- retail_price: double (nullable = true)\n",
      " |-- quantity: integer (nullable = true)\n",
      " |-- total_amount: double (nullable = true)\n",
      "\n",
      "root\n",
      " |-- user_id: integer (nullable = true)\n",
      " |-- first_name: string (nullable = true)\n",
      " |-- last_name: string (nullable = true)\n",
      " |-- email: string (nullable = true)\n",
      " |-- age: integer (nullable = true)\n",
      " |-- city: string (nullable = true)\n",
      "\n",
      "root\n",
      " |-- product_id: integer (nullable = true)\n",
      " |-- product_name: string (nullable = true)\n",
      " |-- product_brand: string (nullable = true)\n",
      " |-- retail_price: double (nullable = true)\n",
      " |-- cost: double (nullable = true)\n",
      "\n",
      "root\n",
      " |-- date_id: date (nullable = true)\n",
      " |-- year: integer (nullable = true)\n",
      " |-- quarter: integer (nullable = true)\n",
      " |-- month: integer (nullable = true)\n",
      " |-- day: integer (nullable = true)\n",
      " |-- week_of_year: integer (nullable = true)\n",
      " |-- day_of_week: integer (nullable = true)\n",
      " |-- day_name: string (nullable = true)\n",
      " |-- month_name: string (nullable = true)\n",
      " |-- is_weekend: string (nullable = true)\n",
      "\n"
     ]
    }
   ],
   "source": [
    "# Cek struktur masing-masing tabel\n",
    "# =============================================\n",
    "dfs[\"fact_transaction\"].printSchema()\n",
    "dfs[\"dim_users\"].printSchema()\n",
    "dfs[\"dim_products\"].printSchema()\n",
    "dfs[\"dim_date\"].printSchema()"
   ]
  },
  {
   "cell_type": "code",
   "execution_count": 4,
   "id": "2fab63d7-c648-42d8-992c-27ab0535f4b7",
   "metadata": {},
   "outputs": [
    {
     "name": "stdout",
     "output_type": "stream",
     "text": [
      "+-------+----------+---------+-----+---+----+\n",
      "|user_id|first_name|last_name|email|age|city|\n",
      "+-------+----------+---------+-----+---+----+\n",
      "|      0|         0|        0|    0|  0|   0|\n",
      "+-------+----------+---------+-----+---+----+\n",
      "\n",
      "+----------+------------+-------------+------------+----+\n",
      "|product_id|product_name|product_brand|retail_price|cost|\n",
      "+----------+------------+-------------+------------+----+\n",
      "|         0|           2|           24|           0|   0|\n",
      "+----------+------------+-------------+------------+----+\n",
      "\n",
      "+-------+----+-------+-----+---+------------+-----------+--------+----------+----------+\n",
      "|date_id|year|quarter|month|day|week_of_year|day_of_week|day_name|month_name|is_weekend|\n",
      "+-------+----+-------+-----+---+------------+-----------+--------+----------+----------+\n",
      "|      0|   0|      0|    0|  0|           0|          0|       0|         0|         0|\n",
      "+-------+----+-------+-----+---+------------+-----------+--------+----------+----------+\n",
      "\n",
      "+--------------+--------+-------+----------+-------+------------+--------+------------+\n",
      "|transaction_id|order_id|user_id|product_id|date_id|retail_price|quantity|total_amount|\n",
      "+--------------+--------+-------+----------+-------+------------+--------+------------+\n",
      "|             0|       0|      0|         0|      0|           0|       0|           0|\n",
      "+--------------+--------+-------+----------+-------+------------+--------+------------+\n",
      "\n"
     ]
    }
   ],
   "source": [
    "# Cek jumlah missing values di setiap kolom\n",
    "# =============================================\n",
    "dfs[\"dim_users\"].select([sum(col(c).isNull().cast(\"int\")).alias(c) for c in dfs[\"dim_users\"].columns]).show()\n",
    "dfs[\"dim_products\"].select([sum(col(c).isNull().cast(\"int\")).alias(c) for c in dfs[\"dim_products\"].columns]).show()\n",
    "dfs[\"dim_date\"].select([sum(col(c).isNull().cast(\"int\")).alias(c) for c in dfs[\"dim_date\"].columns]).show()\n",
    "dfs[\"fact_transaction\"].select([sum(col(c).isNull().cast(\"int\")).alias(c) for c in dfs[\"fact_transaction\"].columns]).show()"
   ]
  },
  {
   "cell_type": "code",
   "execution_count": 5,
   "id": "b907112a-d0eb-4590-895f-137173fe7441",
   "metadata": {},
   "outputs": [
    {
     "data": {
      "text/plain": [
       "DataFrame[product_id: int, product_name: string, product_brand: string, retail_price: double, cost: double]"
      ]
     },
     "execution_count": 5,
     "metadata": {},
     "output_type": "execute_result"
    }
   ],
   "source": [
    "# Handling Missing Value dim_products\n",
    "# =============================================\n",
    "dfs[\"dim_products\"] = dfs[\"dim_products\"].dropna()\n",
    "dfs[\"dim_products\"] = dfs[\"dim_products\"].fillna({\n",
    "    \"product_brand\": \"Unknown\",\n",
    "})\n",
    "dfs[\"dim_products\"]"
   ]
  },
  {
   "cell_type": "code",
   "execution_count": 6,
   "id": "b7759d35-936a-40c8-8671-2cafa6a87649",
   "metadata": {
    "scrolled": true
   },
   "outputs": [
    {
     "name": "stdout",
     "output_type": "stream",
     "text": [
      "+----------+------------+-------------+------------+----+\n",
      "|product_id|product_name|product_brand|retail_price|cost|\n",
      "+----------+------------+-------------+------------+----+\n",
      "|         0|           0|            0|           0|   0|\n",
      "+----------+------------+-------------+------------+----+\n",
      "\n"
     ]
    }
   ],
   "source": [
    "# Cek dim_products setelah handling missing value\n",
    "# =================================================\n",
    "dfs[\"dim_products\"].select([sum(col(c).isNull().cast(\"int\")).alias(c) for c in dfs[\"dim_products\"].columns]).show()"
   ]
  },
  {
   "cell_type": "code",
   "execution_count": 7,
   "id": "09786ab0-d7d6-4df4-b8e9-a9d7590cb811",
   "metadata": {
    "scrolled": true
   },
   "outputs": [
    {
     "name": "stdout",
     "output_type": "stream",
     "text": [
      "+-------+----------+---------+-----+---+----+-----+\n",
      "|user_id|first_name|last_name|email|age|city|count|\n",
      "+-------+----------+---------+-----+---+----+-----+\n",
      "+-------+----------+---------+-----+---+----+-----+\n",
      "\n",
      "+----------+------------+-------------+------------+----+-----+\n",
      "|product_id|product_name|product_brand|retail_price|cost|count|\n",
      "+----------+------------+-------------+------------+----+-----+\n",
      "+----------+------------+-------------+------------+----+-----+\n",
      "\n",
      "+-------+----+-------+-----+---+------------+-----------+--------+----------+----------+-----+\n",
      "|date_id|year|quarter|month|day|week_of_year|day_of_week|day_name|month_name|is_weekend|count|\n",
      "+-------+----+-------+-----+---+------------+-----------+--------+----------+----------+-----+\n",
      "+-------+----+-------+-----+---+------------+-----------+--------+----------+----------+-----+\n",
      "\n",
      "+--------------+--------+-------+----------+-------+------------+--------+------------+-----+\n",
      "|transaction_id|order_id|user_id|product_id|date_id|retail_price|quantity|total_amount|count|\n",
      "+--------------+--------+-------+----------+-------+------------+--------+------------+-----+\n",
      "+--------------+--------+-------+----------+-------+------------+--------+------------+-----+\n",
      "\n"
     ]
    }
   ],
   "source": [
    "# Cek duplikasi data\n",
    "# =============================================\n",
    "dfs[\"dim_users\"].groupBy(dfs[\"dim_users\"].columns).count().filter(col(\"count\") > 1).show()\n",
    "dfs[\"dim_products\"].groupBy(dfs[\"dim_products\"].columns).count().filter(col(\"count\") > 1).show()\n",
    "dfs[\"dim_date\"].groupBy(dfs[\"dim_date\"].columns).count().filter(col(\"count\") > 1).show()\n",
    "dfs[\"fact_transaction\"].groupBy(dfs[\"fact_transaction\"].columns).count().filter(col(\"count\") > 1).show()"
   ]
  },
  {
   "cell_type": "code",
   "execution_count": 8,
   "id": "bd895a16-98c3-4a86-b32e-db7037dfbec5",
   "metadata": {},
   "outputs": [],
   "source": [
    "# Mengubah Data Type pada table fact_transaction\n",
    "# ===============================================\n",
    "dfs[\"fact_transaction\"] = dfs[\"fact_transaction\"].withColumn(\"transaction_id\", col(\"transaction_id\").cast(\"string\")) \\\n",
    "                          .withColumn(\"order_id\", col(\"order_id\").cast(\"string\")) \\\n",
    "                          .withColumn(\"user_id\", col(\"user_id\").cast(\"string\")) \\\n",
    "                          .withColumn(\"product_id\", col(\"product_id\").cast(\"string\")) \\\n",
    "                          .withColumn(\"date_id\", to_date(col(\"date_id\"), \"timestamp\")) \\\n",
    "                          .withColumn(\"retail_price\", col(\"retail_price\").cast(\"float\")) \\\n",
    "                          .withColumn(\"total_amount\", col(\"total_amount\").cast(\"float\"))\n",
    "                           \n",
    "# Mengubah Data Type pada tabel dim_users\n",
    "dfs[\"dim_users\"] = dfs[\"dim_users\"].withColumn(\"user_id\", col(\"user_id\").cast(\"string\"))\n",
    "\n",
    "# Mengubah Data Type pada tabel dim_products\n",
    "dfs[\"dim_products\"] = dfs[\"dim_products\"].withColumn(\"product_id\", col(\"product_id\").cast(\"string\")) \\\n",
    "                      .withColumn(\"retail_price\", col(\"retail_price\").cast(\"float\")) \\\n",
    "                      .withColumn(\"cost\", col(\"cost\").cast(\"float\"))\n",
    "\n",
    "# Mmengubah Data Type pada tabel dim_date\n",
    "dfs[\"dim_date\"] = dfs[\"dim_date\"].withColumn(\"date_id\", to_date(col(\"date_id\"), \"timestamp\"))"
   ]
  },
  {
   "cell_type": "code",
   "execution_count": 9,
   "id": "f30e8bd3-c55e-4c93-b12f-1b5d6d427355",
   "metadata": {
    "scrolled": true
   },
   "outputs": [
    {
     "name": "stdout",
     "output_type": "stream",
     "text": [
      "root\n",
      " |-- transaction_id: string (nullable = true)\n",
      " |-- order_id: string (nullable = true)\n",
      " |-- user_id: string (nullable = true)\n",
      " |-- product_id: string (nullable = true)\n",
      " |-- date_id: date (nullable = true)\n",
      " |-- retail_price: float (nullable = true)\n",
      " |-- quantity: integer (nullable = true)\n",
      " |-- total_amount: float (nullable = true)\n",
      "\n",
      "root\n",
      " |-- user_id: string (nullable = true)\n",
      " |-- first_name: string (nullable = true)\n",
      " |-- last_name: string (nullable = true)\n",
      " |-- email: string (nullable = true)\n",
      " |-- age: integer (nullable = true)\n",
      " |-- city: string (nullable = true)\n",
      "\n",
      "root\n",
      " |-- product_id: string (nullable = true)\n",
      " |-- product_name: string (nullable = true)\n",
      " |-- product_brand: string (nullable = false)\n",
      " |-- retail_price: float (nullable = true)\n",
      " |-- cost: float (nullable = true)\n",
      "\n",
      "root\n",
      " |-- date_id: date (nullable = true)\n",
      " |-- year: integer (nullable = true)\n",
      " |-- quarter: integer (nullable = true)\n",
      " |-- month: integer (nullable = true)\n",
      " |-- day: integer (nullable = true)\n",
      " |-- week_of_year: integer (nullable = true)\n",
      " |-- day_of_week: integer (nullable = true)\n",
      " |-- day_name: string (nullable = true)\n",
      " |-- month_name: string (nullable = true)\n",
      " |-- is_weekend: string (nullable = true)\n",
      "\n"
     ]
    }
   ],
   "source": [
    "# Cek struktur data setelah data type diubah\n",
    "# =============================================\n",
    "dfs[\"fact_transaction\"].printSchema()\n",
    "dfs[\"dim_users\"].printSchema()\n",
    "dfs[\"dim_products\"].printSchema()\n",
    "dfs[\"dim_date\"].printSchema()"
   ]
  },
  {
   "cell_type": "code",
   "execution_count": 10,
   "id": "5906fe60-e822-4972-ac47-bf5e89b063f3",
   "metadata": {},
   "outputs": [],
   "source": [
    "# Transaformasi data\n",
    "# ==============================\n",
    "# Ubah nama kolom agar lebih deskriptif\n",
    "dfs[\"dim_users\"] = dfs[\"dim_users\"].withColumnRenamed(\"id\", \"user_id\")\n",
    "dfs[\"dim_products\"] = dfs[\"dim_products\"].withColumnRenamed(\"id\", \"product_id\")\n",
    "dfs[\"dim_date\"] = dfs[\"dim_date\"].withColumnRenamed(\"date\", \"date_id\")\n",
    "dfs[\"fact_transaction\"] = dfs[\"fact_transaction\"].withColumnRenamed(\"id\", \"transaction_id\")\n"
   ]
  },
  {
   "cell_type": "code",
   "execution_count": 19,
   "id": "d7ccb366-dc18-4f76-8b36-fb51759d0369",
   "metadata": {},
   "outputs": [],
   "source": [
    "# PostgreSQL JDBC Connection\n",
    "# ============================\n",
    "postgres_url = \"jdbc:postgresql://host.docker.internal:5433/rmt003\" #host pysql diuganti sesuai dengan nama database\n",
    "postgres_properties = {\n",
    "    \"user\": \"postgres\",\n",
    "    \"password\": \"postgres\",\n",
    "    \"driver\": \"org.postgresql.Driver\"\n",
    "}"
   ]
  },
  {
   "cell_type": "code",
   "execution_count": 20,
   "id": "08fadc4c-c319-4997-9b7c-9b7ad12c8237",
   "metadata": {},
   "outputs": [],
   "source": [
    "# Write DataFrame to PostgreSQL\n",
    "# ================================\n",
    "dfs[\"fact_transaction\"].write.jdbc(url=postgres_url, table=\"Fact_Table_Transaction\", mode=\"append\", properties=postgres_properties)#table sesuaikan dengan DF\n",
    "dfs[\"dim_users\"].write.jdbc(url=postgres_url, table=\"Dim_Users\", mode=\"append\", properties=postgres_properties)\n",
    "dfs[\"dim_products\"].write.jdbc(url=postgres_url, table=\"Dim_Products\", mode=\"append\", properties=postgres_properties)\n",
    "dfs[\"dim_date\"].write.jdbc(url=postgres_url, table=\"Dim_Date\", mode=\"append\", properties=postgres_properties)"
   ]
  },
  {
   "cell_type": "markdown",
   "id": "493a4086-d9e9-4a5d-94d3-64621de951c8",
   "metadata": {},
   "source": [
    "link Google Slide : https://docs.google.com/presentation/d/1oIBnYoNSXCo1nLAcFTrNXUyYaA4LFB48UMXcTcXKc-c/edit?usp=sharing"
   ]
  }
 ],
 "metadata": {
  "kernelspec": {
   "display_name": "Python 3 (ipykernel)",
   "language": "python",
   "name": "python3"
  },
  "language_info": {
   "codemirror_mode": {
    "name": "ipython",
    "version": 3
   },
   "file_extension": ".py",
   "mimetype": "text/x-python",
   "name": "python",
   "nbconvert_exporter": "python",
   "pygments_lexer": "ipython3",
   "version": "3.12.8"
  }
 },
 "nbformat": 4,
 "nbformat_minor": 5
}
